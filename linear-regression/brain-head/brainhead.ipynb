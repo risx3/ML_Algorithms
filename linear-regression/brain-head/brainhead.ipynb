{
  "nbformat": 4,
  "nbformat_minor": 0,
  "metadata": {
    "colab": {
      "name": "Brainhead.ipynb",
      "provenance": []
    },
    "kernelspec": {
      "name": "python3",
      "display_name": "Python 3"
    }
  },
  "cells": [
    {
      "cell_type": "code",
      "metadata": {
        "id": "OWPi7YjV9V3k",
        "colab_type": "code",
        "colab": {}
      },
      "source": [
        "import numpy as np\n",
        "import pandas as pd\n",
        "import matplotlib.pyplot as plt"
      ],
      "execution_count": 1,
      "outputs": []
    },
    {
      "cell_type": "code",
      "metadata": {
        "id": "d5-6Bj-Z9x-g",
        "colab_type": "code",
        "colab": {}
      },
      "source": [
        "#Reading Data\n",
        "data = pd.read_csv('brainhead.csv')"
      ],
      "execution_count": 2,
      "outputs": []
    },
    {
      "cell_type": "code",
      "metadata": {
        "id": "oZozYpHw90qC",
        "colab_type": "code",
        "colab": {}
      },
      "source": [
        "#Collecting X and Y\n",
        "X=data['Head Size(cm^3)'].values\n",
        "Y=data['Brain Weight(grams)'].values"
      ],
      "execution_count": 4,
      "outputs": []
    },
    {
      "cell_type": "code",
      "metadata": {
        "id": "9CxzTRRT93xh",
        "colab_type": "code",
        "colab": {
          "base_uri": "https://localhost:8080/",
          "height": 119
        },
        "outputId": "561f1a62-feff-44bb-caad-e5717c4aceac"
      },
      "source": [
        "#Mean of X and Y\n",
        "mean_x = np.mean(X)\n",
        "mean_y = np.mean(Y)\n",
        "print(data.head())"
      ],
      "execution_count": 5,
      "outputs": [
        {
          "output_type": "stream",
          "text": [
            "   Gender  Age Range  Head Size(cm^3)  Brain Weight(grams)\n",
            "0       1          1             4512                 1530\n",
            "1       1          1             3738                 1297\n",
            "2       1          1             4261                 1335\n",
            "3       1          1             3777                 1282\n",
            "4       1          1             4177                 1590\n"
          ],
          "name": "stdout"
        }
      ]
    },
    {
      "cell_type": "code",
      "metadata": {
        "id": "zrjnErd2-Eda",
        "colab_type": "code",
        "colab": {}
      },
      "source": [
        "#Total number of Values\n",
        "n = len(X)"
      ],
      "execution_count": 6,
      "outputs": []
    },
    {
      "cell_type": "code",
      "metadata": {
        "id": "cDwcOpY3-ICj",
        "colab_type": "code",
        "colab": {}
      },
      "source": [
        "#Using formula to calculate m and c\n",
        "numer = 0\n",
        "denom = 0\n",
        "for i in range (n):\n",
        "    numer += (X[i]-mean_x) * (Y[i]-mean_y)\n",
        "    denom += (X[i]-mean_x)**2"
      ],
      "execution_count": 7,
      "outputs": []
    },
    {
      "cell_type": "code",
      "metadata": {
        "id": "UbkrZiLo-KqV",
        "colab_type": "code",
        "colab": {}
      },
      "source": [
        "m = numer/denom\n",
        "c = mean_y - m * mean_x"
      ],
      "execution_count": 8,
      "outputs": []
    },
    {
      "cell_type": "code",
      "metadata": {
        "id": "_AOA5bIH-M6S",
        "colab_type": "code",
        "colab": {}
      },
      "source": [
        "#Plotting Graph\n",
        "max_x = np.max(X) + 100\n",
        "min_x = np.min(X) - 100"
      ],
      "execution_count": 9,
      "outputs": []
    },
    {
      "cell_type": "code",
      "metadata": {
        "id": "8uaVq-cV-PaK",
        "colab_type": "code",
        "colab": {
          "base_uri": "https://localhost:8080/",
          "height": 279
        },
        "outputId": "05b5922e-5ff7-4ac3-c4df-eb3a3448d81f"
      },
      "source": [
        "#Calculating linvalues of x and y\n",
        "x = np.linspace(min_x,max_x,1000)\n",
        "y = m*x + c\n",
        "\n",
        "plt.plot(x,y,color = 'red' ,label='Regression Line')\n",
        "plt.scatter(X,Y,label='Scatter Plot')\n",
        "plt.xlabel('Head Size (cm^3)')\n",
        "plt.ylabel('Brain Weight (gms)')\n",
        "plt.show()"
      ],
      "execution_count": 10,
      "outputs": [
        {
          "output_type": "display_data",
          "data": {
            "image/png": "[encoded data removed]",
            "text/plain": [
              "<Figure size 432x288 with 1 Axes>"
            ]
          },
          "metadata": {
            "tags": [],
            "needs_background": "light"
          }
        }
      ]
    },
    {
      "cell_type": "code",
      "metadata": {
        "id": "POgxerOB-SNK",
        "colab_type": "code",
        "colab": {
          "base_uri": "https://localhost:8080/",
          "height": 34
        },
        "outputId": "02a9455f-aacd-4db3-c763-41ea50d469e1"
      },
      "source": [
        "#Calculating R^2\n",
        "snumer = 0\n",
        "sdenom = 0\n",
        "for i in range(n):\n",
        "    yp = m*X[i] + c\n",
        "    snumer += (yp-mean_y)**2\n",
        "    sdenom += (Y[i] - mean_y)**2\n",
        "\n",
        "r2 = (snumer/sdenom)\n",
        "print('R^2 value: ',r2)"
      ],
      "execution_count": 11,
      "outputs": [
        {
          "output_type": "stream",
          "text": [
            "R^2 value:  0.6393117199570001\n"
          ],
          "name": "stdout"
        }
      ]
    },
    {
      "cell_type": "code",
      "metadata": {
        "id": "eS02J6hE-X7L",
        "colab_type": "code",
        "colab": {}
      },
      "source": [
        "# Using sklearn ML\n",
        "from sklearn.linear_model import LinearRegression\n",
        "from sklearn.metrics import mean_squared_error\n",
        "\n",
        "X = X.reshape((n,1))"
      ],
      "execution_count": 12,
      "outputs": []
    },
    {
      "cell_type": "code",
      "metadata": {
        "id": "xXV9ABie-bE6",
        "colab_type": "code",
        "colab": {}
      },
      "source": [
        "#Creating model\n",
        "reg = LinearRegression()\n",
        "\n",
        "#Fitting Training data\n",
        "reg = reg.fit(X,Y)"
      ],
      "execution_count": 13,
      "outputs": []
    },
    {
      "cell_type": "code",
      "metadata": {
        "id": "GSpAVNPN-dR5",
        "colab_type": "code",
        "colab": {
          "base_uri": "https://localhost:8080/",
          "height": 51
        },
        "outputId": "8fabe288-54d4-4e3b-b3e7-295b37acf4ce"
      },
      "source": [
        "Y_pred = reg.predict(X)\n",
        "\n",
        "#Calculating R2\n",
        "r2 = reg.score(X,Y)\n",
        "print('Using sklearn')\n",
        "print('R^2 value: ',r2)"
      ],
      "execution_count": 14,
      "outputs": [
        {
          "output_type": "stream",
          "text": [
            "Using sklearn\n",
            "R^2 value:  0.639311719957\n"
          ],
          "name": "stdout"
        }
      ]
    },
    {
      "cell_type": "code",
      "metadata": {
        "id": "1Jn9Pvmu-e9Z",
        "colab_type": "code",
        "colab": {}
      },
      "source": [
        ""
      ],
      "execution_count": null,
      "outputs": []
    }
  ]
}